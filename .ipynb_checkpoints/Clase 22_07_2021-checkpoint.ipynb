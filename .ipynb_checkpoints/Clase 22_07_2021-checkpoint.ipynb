{
 "cells": [
  {
   "cell_type": "markdown",
   "id": "725d94f8",
   "metadata": {},
   "source": [
    "### Clase 22_07_2021"
   ]
  },
  {
   "cell_type": "markdown",
   "id": "e45f86d1",
   "metadata": {},
   "source": [
    "Scipy \n",
    "También podemos usar sipy y su función root_scalar"
   ]
  },
  {
   "cell_type": "code",
   "execution_count": 3,
   "id": "de55fd1f",
   "metadata": {},
   "outputs": [],
   "source": []
  },
  {
   "cell_type": "code",
   "execution_count": 6,
   "id": "2b7ce1fb",
   "metadata": {},
   "outputs": [
    {
     "ename": "SyntaxError",
     "evalue": "invalid syntax (<ipython-input-6-cd539b0274ea>, line 36)",
     "output_type": "error",
     "traceback": [
      "\u001b[1;36m  File \u001b[1;32m\"<ipython-input-6-cd539b0274ea>\"\u001b[1;36m, line \u001b[1;32m36\u001b[0m\n\u001b[1;33m    method='newton').root\u001b[0m\n\u001b[1;37m    ^\u001b[0m\n\u001b[1;31mSyntaxError\u001b[0m\u001b[1;31m:\u001b[0m invalid syntax\n"
     ]
    }
   ],
   "source": [
    "from scipy.optimize import root_scalar\n",
    "class particula():\n",
    "    \"\"\"\n",
    "    Clase que simula una particula en movimiento parabolico\n",
    "    \"\"\"\n",
    "    def __init__(self, v0, ang, h, g=9.81):\n",
    "        self.v0 = v0\n",
    "        self.ang = ang\n",
    "        self.h = h\n",
    "        self.g = g\n",
    "        self.vel_ini_comp()\n",
    "\n",
    "    def vel_ini_comp(self):\n",
    "        self.v0x = self.v0 * np.cos(np.deg2rad(self.ang))\n",
    "        self.v0y = self.v0 * np.sin(np.deg2rad(self.ang))\n",
    "\n",
    "    def pos_x(self, t):\n",
    "        res = t * se\n",
    "        lf.v0x\n",
    "        return res\n",
    "\n",
    "    def pos_y(self, t):\n",
    "        res = -0.5 * self.g * t * t + t * self.v0y + self.h\n",
    "        return res\n",
    "    \n",
    "    def vel_y(self, t):\n",
    "        res = -self.g * t + self.v0y\n",
    "        return res\n",
    "    \n",
    "    def vel_x(self):\n",
    "        return self.v0x\n",
    "\n",
    "    def make_sim(self):\n",
    "        self.t_f = root_scalar(self.pos_y,\n",
    "                               x0=10,\n",
    "                               fprime=self.vel_y\n",
    "                               method='newton').root\n",
    "        self.t_bins=np.linspace(0,self.t_f,100)\n",
    "        x=self.pos_x(self.t_bins)\n",
    "        y=self.pos_y(self.t_bins)\n",
    "        vx=self.vel_x()\n",
    "        vy=self.vel_y(self.t_bins)\n",
    "        plot_result(x,y,vx,vy)\n",
    "    def plot_result(self,x,y,vx,vy):\n",
    "\n",
    "    def print_cond_ini(self):\n",
    "        print(f'v_x_0 ={self.v0x}\\tv_y_0={self.v0y}')\n",
    "        print(f'La altura h={self.h}')\n",
    "        print(f'Con una aceleración de la gravedad g={self.g}')"
   ]
  },
  {
   "cell_type": "code",
   "execution_count": null,
   "id": "c9c3d4f5",
   "metadata": {},
   "outputs": [],
   "source": []
  }
 ],
 "metadata": {
  "kernelspec": {
   "display_name": "Python 3",
   "language": "python",
   "name": "python3"
  },
  "language_info": {
   "codemirror_mode": {
    "name": "ipython",
    "version": 3
   },
   "file_extension": ".py",
   "mimetype": "text/x-python",
   "name": "python",
   "nbconvert_exporter": "python",
   "pygments_lexer": "ipython3",
   "version": "3.8.8"
  }
 },
 "nbformat": 4,
 "nbformat_minor": 5
}
