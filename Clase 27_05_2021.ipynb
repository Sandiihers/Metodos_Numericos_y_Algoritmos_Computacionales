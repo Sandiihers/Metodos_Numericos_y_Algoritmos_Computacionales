{
 "cells": [
  {
   "cell_type": "markdown",
   "metadata": {},
   "source": [
    "# Clase del 27_05_2021 \n",
    "Stream de YouTube\n"
   ]
  },
  {
   "cell_type": "code",
   "execution_count": 1,
   "metadata": {},
   "outputs": [
    {
     "name": "stdout",
     "output_type": "stream",
     "text": [
      "<class 'int'>\n"
     ]
    }
   ],
   "source": [
    "print(int)"
   ]
  },
  {
   "cell_type": "code",
   "execution_count": 3,
   "metadata": {},
   "outputs": [
    {
     "name": "stdout",
     "output_type": "stream",
     "text": [
      "<class 'str'>\n"
     ]
    }
   ],
   "source": [
    "print(str)"
   ]
  },
  {
   "cell_type": "code",
   "execution_count": 4,
   "metadata": {},
   "outputs": [
    {
     "name": "stdout",
     "output_type": "stream",
     "text": [
      "float\n"
     ]
    }
   ],
   "source": [
    "print('float')"
   ]
  },
  {
   "cell_type": "markdown",
   "metadata": {},
   "source": [
    "Más adelante veremos cuál es la Diferencia entre clases y objetos por ahora se usarán "
   ]
  },
  {
   "cell_type": "markdown",
   "metadata": {},
   "source": [
    "### String\n",
    "Normalmente llamados cadenas de caracteres o simplemente cadenass, los strings son usados para representar información textual.\n",
    "Las cadenas de caracteres soon secuencias inmutables de puntos de código UNICODE."
   ]
  },
  {
   "cell_type": "markdown",
   "metadata": {},
   "source": [
    "## Declaración\n",
    "Las caenas se pueden definir de diferentes manera\n",
    "-comillas simple"
   ]
  },
  {
   "cell_type": "code",
   "execution_count": 8,
   "metadata": {},
   "outputs": [
    {
     "name": "stdout",
     "output_type": "stream",
     "text": [
      "Texto de ejemplo\n"
     ]
    }
   ],
   "source": [
    "print('Texto de ejemplo')"
   ]
  },
  {
   "cell_type": "code",
   "execution_count": 9,
   "metadata": {},
   "outputs": [
    {
     "name": "stdout",
     "output_type": "stream",
     "text": [
      "Texto de ejemplo\n"
     ]
    }
   ],
   "source": [
    "print(\"Texto de ejemplo\")"
   ]
  },
  {
   "cell_type": "code",
   "execution_count": 10,
   "metadata": {},
   "outputs": [
    {
     "name": "stdout",
     "output_type": "stream",
     "text": [
      "permite incluir collimmas 'simples'\n"
     ]
    }
   ],
   "source": [
    "print(\"permite incluir collimmas 'simples'\")"
   ]
  },
  {
   "cell_type": "markdown",
   "metadata": {},
   "source": [
    "-Triples comillas simples"
   ]
  },
  {
   "cell_type": "code",
   "execution_count": 12,
   "metadata": {},
   "outputs": [
    {
     "name": "stdout",
     "output_type": "stream",
     "text": [
      "Texto de ejemplo\n"
     ]
    }
   ],
   "source": [
    "print('''Texto de ejemplo''')"
   ]
  },
  {
   "cell_type": "markdown",
   "metadata": {},
   "source": [
    "-Triples comillas dobles"
   ]
  },
  {
   "cell_type": "code",
   "execution_count": 14,
   "metadata": {},
   "outputs": [
    {
     "name": "stdout",
     "output_type": "stream",
     "text": [
      "Texo de ejemplo\n"
     ]
    }
   ],
   "source": [
    "print(\"\"\"Texo de ejemplo\"\"\")"
   ]
  },
  {
   "cell_type": "markdown",
   "metadata": {},
   "source": [
    "# Métodos de strings.\n",
    "Los string poseen ciertos métodos únicos, aunque, existen ciertas operaciones comunes de las secuencias que pueden ser aplicadas a strings\n",
    "Nota: Estos son solos unsos ejemplos de métodos para str, existen muchos más"
   ]
  },
  {
   "cell_type": "code",
   "execution_count": 15,
   "metadata": {},
   "outputs": [
    {
     "name": "stdout",
     "output_type": "stream",
     "text": [
      "texto de ejemplo\n"
     ]
    }
   ],
   "source": [
    "print(\"texto de ejemplo\")"
   ]
  },
  {
   "cell_type": "code",
   "execution_count": 16,
   "metadata": {},
   "outputs": [
    {
     "name": "stdout",
     "output_type": "stream",
     "text": [
      "Texto de ejemplo\n"
     ]
    }
   ],
   "source": [
    "print(\"texto de ejemplo\".capitalize())"
   ]
  },
  {
   "cell_type": "code",
   "execution_count": 17,
   "metadata": {},
   "outputs": [
    {
     "name": "stdout",
     "output_type": "stream",
     "text": [
      "texto de ejemplo\n"
     ]
    }
   ],
   "source": [
    "print(\"Texto de ejemplo\".casefold())"
   ]
  },
  {
   "cell_type": "code",
   "execution_count": 25,
   "metadata": {},
   "outputs": [
    {
     "name": "stdout",
     "output_type": "stream",
     "text": [
      "4\n"
     ]
    }
   ],
   "source": [
    "print(\"Texto de ejemplo\".count('e'))\n",
    "#necesita un paramétro diferencia entre mayúsculas y minúsculas \n",
    "#también puede contar espacios"
   ]
  },
  {
   "cell_type": "code",
   "execution_count": 26,
   "metadata": {},
   "outputs": [
    {
     "name": "stdout",
     "output_type": "stream",
     "text": [
      "True\n"
     ]
    }
   ],
   "source": [
    "print(\"Texto de ejemplo\".endswith('o'))\n",
    "#nos revisa si la cadena termina con tal caracter"
   ]
  },
  {
   "cell_type": "code",
   "execution_count": 24,
   "metadata": {},
   "outputs": [
    {
     "name": "stdout",
     "output_type": "stream",
     "text": [
      "TEXTO DE EJEMPLO\n"
     ]
    }
   ],
   "source": [
    "print('Texto de ejemplo'.upper())"
   ]
  },
  {
   "cell_type": "code",
   "execution_count": 29,
   "metadata": {},
   "outputs": [
    {
     "name": "stdout",
     "output_type": "stream",
     "text": [
      "True\n"
     ]
    }
   ],
   "source": [
    "print(\"Texto de ejemplo\".startswith('T'))\n",
    "#nos revisa si empieza con tal caracter"
   ]
  },
  {
   "cell_type": "code",
   "execution_count": 35,
   "metadata": {},
   "outputs": [
    {
     "name": "stdout",
     "output_type": "stream",
     "text": [
      "P1O1P1O\n"
     ]
    }
   ],
   "source": [
    "print(\"1\".join('POPO'))\n",
    "#AGREGA DESPUES DE CADA CÁRACTER DE LA STR"
   ]
  },
  {
   "cell_type": "code",
   "execution_count": 36,
   "metadata": {},
   "outputs": [
    {
     "name": "stdout",
     "output_type": "stream",
     "text": [
      "['Texto', 'de', 'ejemplo']\n"
     ]
    }
   ],
   "source": [
    "print(\"Texto de ejemplo\".split(' '))"
   ]
  },
  {
   "cell_type": "code",
   "execution_count": 37,
   "metadata": {},
   "outputs": [
    {
     "name": "stdout",
     "output_type": "stream",
     "text": [
      "['T', 'xto d', ' ', 'j', 'mplo']\n"
     ]
    }
   ],
   "source": [
    "print(\"Texto de ejemplo\".split('e'))\n",
    "#Es útil cuando quiero separar de una base de datos de una \n",
    "#los guiones de una longitud de onda"
   ]
  },
  {
   "cell_type": "code",
   "execution_count": 45,
   "metadata": {},
   "outputs": [
    {
     "name": "stdout",
     "output_type": "stream",
     "text": [
      "Texto de ejemplo\n"
     ]
    }
   ],
   "source": [
    "print(\"Texto de {}\".format('ejemplo'))\n",
    "#Va a sustituir el espacio de las \"{}\" aquello que esté \n",
    "#dentro del formant"
   ]
  },
  {
   "cell_type": "code",
   "execution_count": 47,
   "metadata": {},
   "outputs": [
    {
     "name": "stdout",
     "output_type": "stream",
     "text": [
      "Texto de ejemplo\n"
     ]
    }
   ],
   "source": [
    "#Si lo quiero que los llene de otro orden uso números.\n",
    "print(\"{0} {2} {1}\".format('Texto','ejemplo','de'))"
   ]
  },
  {
   "cell_type": "code",
   "execution_count": 62,
   "metadata": {},
   "outputs": [
    {
     "name": "stdout",
     "output_type": "stream",
     "text": [
      "Texto de ejemplo\n"
     ]
    }
   ],
   "source": [
    "print(\"Texto de %(test)s\" % {'test':'ejemplo'})\n",
    "#manera antigua"
   ]
  },
  {
   "cell_type": "code",
   "execution_count": 64,
   "metadata": {},
   "outputs": [
    {
     "name": "stdout",
     "output_type": "stream",
     "text": [
      "1,000,000\n"
     ]
    }
   ],
   "source": [
    "print(\"{:,.0f}\".format(1000000.354346))\n",
    "#fstrings\n",
    "#le pueden dar formato a lo que ustedes quieren poner"
   ]
  },
  {
   "cell_type": "code",
   "execution_count": 68,
   "metadata": {},
   "outputs": [
    {
     "name": "stdout",
     "output_type": "stream",
     "text": [
      "25\n",
      "5-25\n"
     ]
    }
   ],
   "source": [
    "print(\"{}\".format(5*5))\n",
    "print(\"{}-{}\".format(5,5*5))"
   ]
  },
  {
   "cell_type": "code",
   "execution_count": 70,
   "metadata": {},
   "outputs": [
    {
     "name": "stdout",
     "output_type": "stream",
     "text": [
      "25\n",
      "5-25\n"
     ]
    }
   ],
   "source": [
    "print(f\"{5*5}\")\n",
    "print(f\"{5}-{5*5}\")"
   ]
  },
  {
   "cell_type": "markdown",
   "metadata": {},
   "source": [
    "### Introducción\n",
    "Hay tres tipos numéricos distintos:\n",
    "    -enteros\n",
    "    -números de coma flotante\n",
    "    -números complejos.\n",
    "    Todos los tipos numéricos (exceptos los complejos), soportan las siguientes operaciones:\n",
    "x+y \n",
    "x/y division de x por y\n",
    "\n",
    "x//y división entera de x por y\n",
    "\n",
    "x%y  \n",
    "\n",
    "-x valor de x, negado\n",
    "\n",
    "+x valor de x, sin cambiar\n",
    "\n",
    "abs(x)\n",
    "\n",
    "int(x)\n",
    "\n",
    "float(x)\n",
    "\n",
    "complex(re,im)\n",
    "\n",
    "c.conjugate()\n",
    "\n",
    "divmod(x,y)\n",
    "\n",
    "pow(x,y)\n",
    "\n",
    "x**y \n",
    "\n",
    "x|y\n",
    "\n",
    "x^y\n",
    "\n",
    "x&y\n",
    "\n",
    "-x     Invierte los bits de x"
   ]
  },
  {
   "cell_type": "markdown",
   "metadata": {},
   "source": [
    "### Enteros\n",
    "Los enteros representan los núeros enteros de nuestro sistema de numeración. Este tipo de dato tiene presición ilimitada. Un tipo de subdato son los booleanos."
   ]
  },
  {
   "cell_type": "markdown",
   "metadata": {},
   "source": [
    "### Booleanos\n",
    "Los booleanos son un tipo especial de entero para representar el valor 1 como True y 0 como False"
   ]
  },
  {
   "cell_type": "code",
   "execution_count": 73,
   "metadata": {},
   "outputs": [
    {
     "name": "stdout",
     "output_type": "stream",
     "text": [
      "False\n"
     ]
    }
   ],
   "source": [
    "print(False)"
   ]
  },
  {
   "cell_type": "code",
   "execution_count": 74,
   "metadata": {},
   "outputs": [
    {
     "name": "stdout",
     "output_type": "stream",
     "text": [
      "True\n"
     ]
    }
   ],
   "source": [
    "print(True)"
   ]
  },
  {
   "cell_type": "code",
   "execution_count": 75,
   "metadata": {},
   "outputs": [
    {
     "name": "stdout",
     "output_type": "stream",
     "text": [
      "{True}\n"
     ]
    }
   ],
   "source": [
    "print({False or True})"
   ]
  },
  {
   "cell_type": "markdown",
   "metadata": {},
   "source": [
    "### Float \n",
    "Los números de coma/punto flotante representan a los números reales de nuestro sistema de numeración. Generalmente tienen \n",
    "(heredado de C). Una buena forma para ver la capacidad de una computadora es con la instrucción sys.float_info (requiere el paquete sys).\n"
   ]
  },
  {
   "cell_type": "markdown",
   "metadata": {},
   "source": [
    "Las decimales dependen de la capacidad de la computadora"
   ]
  },
  {
   "cell_type": "code",
   "execution_count": 76,
   "metadata": {},
   "outputs": [
    {
     "name": "stdout",
     "output_type": "stream",
     "text": [
      "10.0\n"
     ]
    }
   ],
   "source": [
    "print(10.00)"
   ]
  },
  {
   "cell_type": "code",
   "execution_count": 77,
   "metadata": {},
   "outputs": [
    {
     "name": "stdout",
     "output_type": "stream",
     "text": [
      "10.000000001\n"
     ]
    }
   ],
   "source": [
    "print(10.000000001)"
   ]
  },
  {
   "cell_type": "code",
   "execution_count": 83,
   "metadata": {},
   "outputs": [
    {
     "name": "stdout",
     "output_type": "stream",
     "text": [
      "1000000000.0\n"
     ]
    }
   ],
   "source": [
    "print(1E9)"
   ]
  },
  {
   "cell_type": "code",
   "execution_count": 84,
   "metadata": {},
   "outputs": [
    {
     "name": "stdout",
     "output_type": "stream",
     "text": [
      "0.0010456\n"
     ]
    }
   ],
   "source": [
    "print(1.0456e-3)"
   ]
  },
  {
   "cell_type": "markdown",
   "metadata": {},
   "source": [
    "### Complejos\n",
    "Los números complejos, tienen una parte real y otra imaginaria, ambas representadas con números de cama flotante. Laa parte compleja se define teniendo en cuenta el sufijo j o J"
   ]
  },
  {
   "cell_type": "code",
   "execution_count": 85,
   "metadata": {},
   "outputs": [
    {
     "name": "stdout",
     "output_type": "stream",
     "text": [
      "(1+2j)\n"
     ]
    }
   ],
   "source": [
    "print(1+2j)"
   ]
  },
  {
   "cell_type": "code",
   "execution_count": 80,
   "metadata": {},
   "outputs": [
    {
     "name": "stdout",
     "output_type": "stream",
     "text": [
      "1.0\n"
     ]
    }
   ],
   "source": [
    "print((1+2j).real)"
   ]
  },
  {
   "cell_type": "code",
   "execution_count": 88,
   "metadata": {},
   "outputs": [
    {
     "name": "stdout",
     "output_type": "stream",
     "text": [
      "6.0\n"
     ]
    }
   ],
   "source": [
    "print(((1+2j)+(5+3j)).real)"
   ]
  },
  {
   "cell_type": "code",
   "execution_count": 81,
   "metadata": {},
   "outputs": [
    {
     "name": "stdout",
     "output_type": "stream",
     "text": [
      "2.0\n"
     ]
    }
   ],
   "source": [
    "print((1+2j).imag)"
   ]
  }
 ],
 "metadata": {
  "kernelspec": {
   "display_name": "Python 3",
   "language": "python",
   "name": "python3"
  },
  "language_info": {
   "codemirror_mode": {
    "name": "ipython",
    "version": 3
   },
   "file_extension": ".py",
   "mimetype": "text/x-python",
   "name": "python",
   "nbconvert_exporter": "python",
   "pygments_lexer": "ipython3",
   "version": "3.8.5"
  }
 },
 "nbformat": 4,
 "nbformat_minor": 4
}
